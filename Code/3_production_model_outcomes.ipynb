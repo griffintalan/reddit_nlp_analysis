{
 "cells": [
  {
   "cell_type": "markdown",
   "metadata": {},
   "source": [
    "## Data Preparation"
   ]
  },
  {
   "cell_type": "code",
   "execution_count": 1,
   "metadata": {},
   "outputs": [],
   "source": [
    "import pandas as pd\n",
    "import numpy as np\n",
    "import matplotlib.pyplot as plt\n",
    "import seaborn as sns\n",
    "from sklearn.feature_extraction.text import CountVectorizer, TfidfVectorizer\n",
    "from sklearn.pipeline import Pipeline\n",
    "from sklearn.model_selection import GridSearchCV, cross_val_score, train_test_split\n",
    "from sklearn.preprocessing import StandardScaler\n",
    "from sklearn.ensemble import VotingClassifier, AdaBoostClassifier, ExtraTreesClassifier, RandomForestClassifier, GradientBoostingClassifier, BaggingClassifier\n",
    "from sklearn.tree import DecisionTreeClassifier\n",
    "from sklearn.neighbors import KNeighborsClassifier\n",
    "from sklearn.compose import make_column_transformer\n",
    "from nltk.tokenize.regexp import RegexpTokenizer\n",
    "from nltk.stem.wordnet import WordNetLemmatizer\n",
    "from sklearn.linear_model import LogisticRegression\n",
    "from sklearn.metrics import confusion_matrix\n",
    "from sklearn.svm import SVC\n",
    "from sklearn.naive_bayes import BernoulliNB"
   ]
  },
  {
   "cell_type": "code",
   "execution_count": 2,
   "metadata": {},
   "outputs": [],
   "source": [
    "# importing formatted data from notebook 1\n",
    "df = pd.read_csv('../Data/combined_data.csv')"
   ]
  },
  {
   "cell_type": "code",
   "execution_count": 3,
   "metadata": {},
   "outputs": [],
   "source": [
    "# creating column lemmatizer function\n",
    "\n",
    "def column_lemmatizer(data, column):\n",
    "    tokenizer = RegexpTokenizer(\"[\\w']+\")\n",
    "    lemmatizer = WordNetLemmatizer()\n",
    "    new_column = []\n",
    "    for i in data[column]:\n",
    "        temp_list = []\n",
    "        tokens = tokenizer.tokenize(i.lower().strip())\n",
    "        for j in tokens:\n",
    "            temp_list.append(lemmatizer.lemmatize(j))\n",
    "        temp_list = ' '.join(temp_list)\n",
    "        new_column.append(temp_list)\n",
    "    return new_column"
   ]
  },
  {
   "cell_type": "code",
   "execution_count": 4,
   "metadata": {},
   "outputs": [],
   "source": [
    "#recreating dataframes and train/test sets for analysis\n",
    "\n",
    "df['all_text'] = column_lemmatizer(df, 'all_text')\n",
    "df['title'] = column_lemmatizer(df, 'title')\n",
    "df['selftext'] = column_lemmatizer(df, 'selftext')"
   ]
  },
  {
   "cell_type": "code",
   "execution_count": 5,
   "metadata": {},
   "outputs": [],
   "source": [
    "X_alltext = df['all_text']\n",
    "X_title = df['title']\n",
    "X_selftext = df['selftext']\n",
    "X_nums = df[['num_comments', 'score', 'days_old', 'log_all_text_length']]\n",
    "y = df['is_liberal']"
   ]
  },
  {
   "cell_type": "code",
   "execution_count": 6,
   "metadata": {},
   "outputs": [],
   "source": [
    "X_train_alltext, X_test_alltext, y_train_alltext, y_test_alltext = train_test_split(X_alltext, y)\n",
    "\n",
    "X_train_title, X_test_title, y_train_title, y_test_title = train_test_split(X_title, y)\n",
    "\n",
    "X_train_selftext, X_test_selftext, y_train_selftext, y_test_selftext = train_test_split(X_selftext, y)"
   ]
  },
  {
   "cell_type": "markdown",
   "metadata": {},
   "source": [
    "## Function Definitions"
   ]
  },
  {
   "cell_type": "code",
   "execution_count": 7,
   "metadata": {},
   "outputs": [],
   "source": [
    "# creating function to output scores for a model\n",
    "\n",
    "def gridsearch_score(pipe_model, params, cv, xtrain, ytrain, xtest, ytest):\n",
    "    \n",
    "    grid = GridSearchCV(estimator = pipe_model,\n",
    "                       param_grid = params,\n",
    "                       cv = cv)\n",
    "    \n",
    "    grid.fit(xtrain, ytrain)\n",
    "    \n",
    "    baseline = round(max(df['is_liberal'].value_counts(normalize=True)), 4)\n",
    "    train_score = grid.score(xtrain, ytrain)\n",
    "    test_score = grid.score(xtest, ytest)\n",
    "    best_params = grid.best_params_\n",
    "    \n",
    "    preds = grid.predict(xtest)\n",
    "    \n",
    "    tn, fp, fn, tp = confusion_matrix(ytest,\n",
    "                                  preds).ravel()\n",
    "    \n",
    "    specificity = round(tn / (tn + fp), 4)\n",
    "    sensitivity = round(tp / (tp + fn), 4)\n",
    "    \n",
    "    print(\"Baseline Accuracy: 0.5\")\n",
    "    print(f\"Train Accuracy: {round(train_score, 4)}\")\n",
    "    print(f\"Test Accuracy: {round(test_score, 4)}\")\n",
    "    print()\n",
    "    print(f\"True Positives: {tp}\")\n",
    "    print(f\"True Negatives: {tn}\")\n",
    "    print(f\"False Positives: {fp}\")\n",
    "    print(f\"False Negatives: {fn}\")\n",
    "    print()\n",
    "    print(f\"Specificity: {specificity}\")\n",
    "    print(f\"Sensitivity: {sensitivity}\")\n",
    "    print()\n",
    "    print(best_params)\n",
    "    "
   ]
  },
  {
   "cell_type": "code",
   "execution_count": 8,
   "metadata": {},
   "outputs": [],
   "source": [
    "# creating a function to print scores for all three data subsets\n",
    "\n",
    "def grid_scores_difftexts(pipe_model, params, cv):\n",
    "    \n",
    "    print('---------------------Title---------------------')\n",
    "    gridsearch_score(pipe_model = pipe_model, \n",
    "                 params = params, \n",
    "                 cv = cv, \n",
    "                 xtrain = X_train_title,\n",
    "                 ytrain = y_train_title,\n",
    "                 xtest = X_test_title,\n",
    "                 ytest = y_test_title)\n",
    "    \n",
    "    print(\"\\n\")\n",
    "    print(\"\\n\")\n",
    "    print('---------------------Self Text---------------------')\n",
    "    gridsearch_score(pipe_model = pipe_model, \n",
    "                 params = params, \n",
    "                 cv = cv, \n",
    "                 xtrain = X_train_alltext,\n",
    "                 ytrain = y_train_alltext,\n",
    "                 xtest = X_test_alltext,\n",
    "                 ytest = y_test_alltext)\n",
    "    \n",
    "    print(\"\\n\")\n",
    "    print(\"\\n\")\n",
    "    print('---------------------All Text---------------------')\n",
    "    gridsearch_score(pipe_model = pipe_model, \n",
    "                 params = params, \n",
    "                 cv = cv, \n",
    "                 xtrain = X_train_alltext,\n",
    "                 ytrain = y_train_alltext,\n",
    "                 xtest = X_test_alltext,\n",
    "                 ytest = y_test_alltext)"
   ]
  },
  {
   "cell_type": "code",
   "execution_count": 9,
   "metadata": {},
   "outputs": [],
   "source": [
    "# temporarily turning off warnings for output\n",
    "\n",
    "import warnings\n",
    "warnings.filterwarnings('ignore')"
   ]
  },
  {
   "cell_type": "markdown",
   "metadata": {},
   "source": [
    "## Bayesian Model - Bernoulli"
   ]
  },
  {
   "cell_type": "code",
   "execution_count": 10,
   "metadata": {},
   "outputs": [],
   "source": [
    "params_tfidf_nb = {\n",
    "    'tfidf__ngram_range' : [(1, 1), (1, 2)],\n",
    "    'tfidf__lowercase' : [ False],\n",
    "    'tfidf__stop_words' : ['english'],\n",
    "    'nb__alpha' : [0.01, 1, 10]\n",
    "}\n",
    "\n",
    "pipe_tfidf_nb = Pipeline([\n",
    "    ('tfidf', TfidfVectorizer()),\n",
    "    ('nb', BernoulliNB())\n",
    "])"
   ]
  },
  {
   "cell_type": "code",
   "execution_count": 11,
   "metadata": {},
   "outputs": [
    {
     "name": "stdout",
     "output_type": "stream",
     "text": [
      "---------------------Title---------------------\n",
      "Baseline Accuracy: 0.5\n",
      "Train Accuracy: 0.85\n",
      "Test Accuracy: 0.594\n",
      "\n",
      "True Positives: 371\n",
      "True Negatives: 223\n",
      "False Positives: 308\n",
      "False Negatives: 98\n",
      "\n",
      "Specificity: 0.42\n",
      "Sensitivity: 0.791\n",
      "\n",
      "{'nb__alpha': 1, 'tfidf__lowercase': False, 'tfidf__ngram_range': (1, 1), 'tfidf__stop_words': 'english'}\n",
      "\n",
      "\n",
      "\n",
      "\n",
      "---------------------Self Text---------------------\n",
      "Baseline Accuracy: 0.5\n",
      "Train Accuracy: 0.778\n",
      "Test Accuracy: 0.586\n",
      "\n",
      "True Positives: 390\n",
      "True Negatives: 196\n",
      "False Positives: 309\n",
      "False Negatives: 105\n",
      "\n",
      "Specificity: 0.3881\n",
      "Sensitivity: 0.7879\n",
      "\n",
      "{'nb__alpha': 0.01, 'tfidf__lowercase': False, 'tfidf__ngram_range': (1, 1), 'tfidf__stop_words': 'english'}\n",
      "\n",
      "\n",
      "\n",
      "\n",
      "---------------------All Text---------------------\n",
      "Baseline Accuracy: 0.5\n",
      "Train Accuracy: 0.778\n",
      "Test Accuracy: 0.586\n",
      "\n",
      "True Positives: 390\n",
      "True Negatives: 196\n",
      "False Positives: 309\n",
      "False Negatives: 105\n",
      "\n",
      "Specificity: 0.3881\n",
      "Sensitivity: 0.7879\n",
      "\n",
      "{'nb__alpha': 0.01, 'tfidf__lowercase': False, 'tfidf__ngram_range': (1, 1), 'tfidf__stop_words': 'english'}\n"
     ]
    }
   ],
   "source": [
    "grid_scores_difftexts(pipe_model = pipe_tfidf_nb, \n",
    "                 params = params_tfidf_nb, \n",
    "                 cv = 5)"
   ]
  },
  {
   "cell_type": "code",
   "execution_count": 12,
   "metadata": {},
   "outputs": [],
   "source": [
    "# refitting model with best_params to pull coefficients\n",
    "\n",
    "tfidf = TfidfVectorizer(lowercase = False,\n",
    "                             stop_words = 'english')\n",
    "nb = BernoulliNB(alpha = 0.01)"
   ]
  },
  {
   "cell_type": "code",
   "execution_count": 13,
   "metadata": {},
   "outputs": [
    {
     "data": {
      "text/plain": [
       "BernoulliNB(alpha=0.01, binarize=0.0, class_prior=None, fit_prior=True)"
      ]
     },
     "execution_count": 13,
     "metadata": {},
     "output_type": "execute_result"
    }
   ],
   "source": [
    "tfidf.fit(X_train_alltext, y_train_alltext)\n",
    "X_train_alltext_nb = tfidf.transform(X_train_alltext)\n",
    "nb.fit(X_train_alltext_nb, y_train_alltext)"
   ]
  },
  {
   "cell_type": "code",
   "execution_count": 14,
   "metadata": {},
   "outputs": [],
   "source": [
    "#extracting coefficients\n",
    "\n",
    "coefficients = np.exp(nb.feature_log_prob_)[1]"
   ]
  },
  {
   "cell_type": "code",
   "execution_count": 15,
   "metadata": {},
   "outputs": [
    {
     "data": {
      "text/plain": [
       "numpy.ndarray"
      ]
     },
     "execution_count": 15,
     "metadata": {},
     "output_type": "execute_result"
    }
   ],
   "source": [
    "type(coefficients)"
   ]
  },
  {
   "cell_type": "code",
   "execution_count": 16,
   "metadata": {},
   "outputs": [],
   "source": [
    "columns = list(tfidf.vocabulary_.keys())"
   ]
  },
  {
   "cell_type": "code",
   "execution_count": 17,
   "metadata": {},
   "outputs": [
    {
     "data": {
      "text/plain": [
       "list"
      ]
     },
     "execution_count": 17,
     "metadata": {},
     "output_type": "execute_result"
    }
   ],
   "source": [
    "type(columns)"
   ]
  },
  {
   "cell_type": "code",
   "execution_count": 18,
   "metadata": {},
   "outputs": [],
   "source": [
    "nb_coeffs = pd.DataFrame(coefficients, index = columns).sort_values(0, ascending = False)"
   ]
  },
  {
   "cell_type": "code",
   "execution_count": 39,
   "metadata": {},
   "outputs": [],
   "source": [
    "nb_coeffs.columns = ['bernoulli_coefficient']"
   ]
  },
  {
   "cell_type": "code",
   "execution_count": 81,
   "metadata": {
    "scrolled": true
   },
   "outputs": [
    {
     "data": {
      "text/html": [
       "<div>\n",
       "<style scoped>\n",
       "    .dataframe tbody tr th:only-of-type {\n",
       "        vertical-align: middle;\n",
       "    }\n",
       "\n",
       "    .dataframe tbody tr th {\n",
       "        vertical-align: top;\n",
       "    }\n",
       "\n",
       "    .dataframe thead th {\n",
       "        text-align: right;\n",
       "    }\n",
       "</style>\n",
       "<table border=\"1\" class=\"dataframe\">\n",
       "  <thead>\n",
       "    <tr style=\"text-align: right;\">\n",
       "      <th></th>\n",
       "      <th>bernoulli_coefficient</th>\n",
       "    </tr>\n",
       "  </thead>\n",
       "  <tbody>\n",
       "    <tr>\n",
       "      <th>desegregate</th>\n",
       "      <td>0.297013</td>\n",
       "    </tr>\n",
       "    <tr>\n",
       "      <th>amin</th>\n",
       "      <td>0.293026</td>\n",
       "    </tr>\n",
       "    <tr>\n",
       "      <th>109</th>\n",
       "      <td>0.291697</td>\n",
       "    </tr>\n",
       "    <tr>\n",
       "      <th>xiqd56bl614</th>\n",
       "      <td>0.273093</td>\n",
       "    </tr>\n",
       "    <tr>\n",
       "      <th>fig</th>\n",
       "      <td>0.259139</td>\n",
       "    </tr>\n",
       "    <tr>\n",
       "      <th>headed</th>\n",
       "      <td>0.222595</td>\n",
       "    </tr>\n",
       "    <tr>\n",
       "      <th>violator</th>\n",
       "      <td>0.221931</td>\n",
       "    </tr>\n",
       "    <tr>\n",
       "      <th>nevertrumpers</th>\n",
       "      <td>0.205984</td>\n",
       "    </tr>\n",
       "    <tr>\n",
       "      <th>reciprocated</th>\n",
       "      <td>0.198011</td>\n",
       "    </tr>\n",
       "    <tr>\n",
       "      <th>gop_surveys</th>\n",
       "      <td>0.196017</td>\n",
       "    </tr>\n",
       "    <tr>\n",
       "      <th>giuliani</th>\n",
       "      <td>0.193360</td>\n",
       "    </tr>\n",
       "    <tr>\n",
       "      <th>persecute</th>\n",
       "      <td>0.192695</td>\n",
       "    </tr>\n",
       "    <tr>\n",
       "      <th>capitation</th>\n",
       "      <td>0.174755</td>\n",
       "    </tr>\n",
       "    <tr>\n",
       "      <th>interface</th>\n",
       "      <td>0.172097</td>\n",
       "    </tr>\n",
       "    <tr>\n",
       "      <th>courting</th>\n",
       "      <td>0.164789</td>\n",
       "    </tr>\n",
       "    <tr>\n",
       "      <th>intermediate</th>\n",
       "      <td>0.148842</td>\n",
       "    </tr>\n",
       "    <tr>\n",
       "      <th>assisting</th>\n",
       "      <td>0.146849</td>\n",
       "    </tr>\n",
       "    <tr>\n",
       "      <th>flatly</th>\n",
       "      <td>0.146184</td>\n",
       "    </tr>\n",
       "    <tr>\n",
       "      <th>rejoice</th>\n",
       "      <td>0.126251</td>\n",
       "    </tr>\n",
       "    <tr>\n",
       "      <th>nabilahforcongress</th>\n",
       "      <td>0.124922</td>\n",
       "    </tr>\n",
       "    <tr>\n",
       "      <th>shyly</th>\n",
       "      <td>0.122929</td>\n",
       "    </tr>\n",
       "    <tr>\n",
       "      <th>thedailywake</th>\n",
       "      <td>0.120271</td>\n",
       "    </tr>\n",
       "    <tr>\n",
       "      <th>sqad</th>\n",
       "      <td>0.114291</td>\n",
       "    </tr>\n",
       "    <tr>\n",
       "      <th>kool</th>\n",
       "      <td>0.111633</td>\n",
       "    </tr>\n",
       "    <tr>\n",
       "      <th>1940</th>\n",
       "      <td>0.111633</td>\n",
       "    </tr>\n",
       "    <tr>\n",
       "      <th>unsupported</th>\n",
       "      <td>0.110304</td>\n",
       "    </tr>\n",
       "    <tr>\n",
       "      <th>rugged</th>\n",
       "      <td>0.109640</td>\n",
       "    </tr>\n",
       "    <tr>\n",
       "      <th>miniskirt</th>\n",
       "      <td>0.109640</td>\n",
       "    </tr>\n",
       "    <tr>\n",
       "      <th>bohrenjensen</th>\n",
       "      <td>0.108311</td>\n",
       "    </tr>\n",
       "    <tr>\n",
       "      <th>connects</th>\n",
       "      <td>0.107646</td>\n",
       "    </tr>\n",
       "    <tr>\n",
       "      <th>unreported</th>\n",
       "      <td>0.105653</td>\n",
       "    </tr>\n",
       "    <tr>\n",
       "      <th>infringement</th>\n",
       "      <td>0.104989</td>\n",
       "    </tr>\n",
       "    <tr>\n",
       "      <th>relegated</th>\n",
       "      <td>0.102995</td>\n",
       "    </tr>\n",
       "    <tr>\n",
       "      <th>collude</th>\n",
       "      <td>0.101666</td>\n",
       "    </tr>\n",
       "    <tr>\n",
       "      <th>8vrzs</th>\n",
       "      <td>0.100338</td>\n",
       "    </tr>\n",
       "    <tr>\n",
       "      <th>artid</th>\n",
       "      <td>0.097015</td>\n",
       "    </tr>\n",
       "    <tr>\n",
       "      <th>calculation</th>\n",
       "      <td>0.095022</td>\n",
       "    </tr>\n",
       "    <tr>\n",
       "      <th>app</th>\n",
       "      <td>0.093693</td>\n",
       "    </tr>\n",
       "    <tr>\n",
       "      <th>contest</th>\n",
       "      <td>0.091700</td>\n",
       "    </tr>\n",
       "    <tr>\n",
       "      <th>dip4m</th>\n",
       "      <td>0.091700</td>\n",
       "    </tr>\n",
       "    <tr>\n",
       "      <th>dumbed</th>\n",
       "      <td>0.090371</td>\n",
       "    </tr>\n",
       "    <tr>\n",
       "      <th>colombia</th>\n",
       "      <td>0.088378</td>\n",
       "    </tr>\n",
       "    <tr>\n",
       "      <th>platini</th>\n",
       "      <td>0.087049</td>\n",
       "    </tr>\n",
       "    <tr>\n",
       "      <th>inner</th>\n",
       "      <td>0.085720</td>\n",
       "    </tr>\n",
       "    <tr>\n",
       "      <th>explosive</th>\n",
       "      <td>0.085720</td>\n",
       "    </tr>\n",
       "    <tr>\n",
       "      <th>vary</th>\n",
       "      <td>0.085055</td>\n",
       "    </tr>\n",
       "    <tr>\n",
       "      <th>cringeworthy</th>\n",
       "      <td>0.083062</td>\n",
       "    </tr>\n",
       "    <tr>\n",
       "      <th>abbreviation</th>\n",
       "      <td>0.082398</td>\n",
       "    </tr>\n",
       "    <tr>\n",
       "      <th>disproportionately</th>\n",
       "      <td>0.082398</td>\n",
       "    </tr>\n",
       "    <tr>\n",
       "      <th>anthony</th>\n",
       "      <td>0.081733</td>\n",
       "    </tr>\n",
       "  </tbody>\n",
       "</table>\n",
       "</div>"
      ],
      "text/plain": [
       "                    bernoulli_coefficient\n",
       "desegregate                      0.297013\n",
       "amin                             0.293026\n",
       "109                              0.291697\n",
       "xiqd56bl614                      0.273093\n",
       "fig                              0.259139\n",
       "headed                           0.222595\n",
       "violator                         0.221931\n",
       "nevertrumpers                    0.205984\n",
       "reciprocated                     0.198011\n",
       "gop_surveys                      0.196017\n",
       "giuliani                         0.193360\n",
       "persecute                        0.192695\n",
       "capitation                       0.174755\n",
       "interface                        0.172097\n",
       "courting                         0.164789\n",
       "intermediate                     0.148842\n",
       "assisting                        0.146849\n",
       "flatly                           0.146184\n",
       "rejoice                          0.126251\n",
       "nabilahforcongress               0.124922\n",
       "shyly                            0.122929\n",
       "thedailywake                     0.120271\n",
       "sqad                             0.114291\n",
       "kool                             0.111633\n",
       "1940                             0.111633\n",
       "unsupported                      0.110304\n",
       "rugged                           0.109640\n",
       "miniskirt                        0.109640\n",
       "bohrenjensen                     0.108311\n",
       "connects                         0.107646\n",
       "unreported                       0.105653\n",
       "infringement                     0.104989\n",
       "relegated                        0.102995\n",
       "collude                          0.101666\n",
       "8vrzs                            0.100338\n",
       "artid                            0.097015\n",
       "calculation                      0.095022\n",
       "app                              0.093693\n",
       "contest                          0.091700\n",
       "dip4m                            0.091700\n",
       "dumbed                           0.090371\n",
       "colombia                         0.088378\n",
       "platini                          0.087049\n",
       "inner                            0.085720\n",
       "explosive                        0.085720\n",
       "vary                             0.085055\n",
       "cringeworthy                     0.083062\n",
       "abbreviation                     0.082398\n",
       "disproportionately               0.082398\n",
       "anthony                          0.081733"
      ]
     },
     "execution_count": 81,
     "metadata": {},
     "output_type": "execute_result"
    }
   ],
   "source": [
    "nb_coeffs[0:50]"
   ]
  },
  {
   "cell_type": "code",
   "execution_count": 95,
   "metadata": {},
   "outputs": [
    {
     "data": {
      "image/png": "[encoded data removed]",
      "text/plain": [
       "<Figure size 1800x1080 with 1 Axes>"
      ]
     },
     "metadata": {
      "needs_background": "light"
     },
     "output_type": "display_data"
    },
    {
     "data": {
      "text/plain": [
       "<Figure size 432x288 with 0 Axes>"
      ]
     },
     "metadata": {},
     "output_type": "display_data"
    }
   ],
   "source": [
    "# plotting highest coefficient words\n",
    "\n",
    "plt.figure(figsize = (25, 15));\n",
    "plt.bar(x = nb_coeffs.index[:30], height= nb_coeffs['bernoulli_coefficient'][:30]);\n",
    "plt.xticks(rotation = 70, size = 20);\n",
    "plt.xlabel('Word', size = 24)\n",
    "plt.ylabel('Bernoulli Coefficient', size = 24)\n",
    "plt.title('Bernoulli Coefficient for Most Selective Words', size = 28)\n",
    "plt.show();\n",
    "plt.tight_layout();"
   ]
  },
  {
   "cell_type": "code",
   "execution_count": 98,
   "metadata": {},
   "outputs": [
    {
     "data": {
      "text/html": [
       "<div>\n",
       "<style scoped>\n",
       "    .dataframe tbody tr th:only-of-type {\n",
       "        vertical-align: middle;\n",
       "    }\n",
       "\n",
       "    .dataframe tbody tr th {\n",
       "        vertical-align: top;\n",
       "    }\n",
       "\n",
       "    .dataframe thead th {\n",
       "        text-align: right;\n",
       "    }\n",
       "</style>\n",
       "<table border=\"1\" class=\"dataframe\">\n",
       "  <thead>\n",
       "    <tr style=\"text-align: right;\">\n",
       "      <th></th>\n",
       "      <th>bernoulli_coefficient</th>\n",
       "    </tr>\n",
       "  </thead>\n",
       "  <tbody>\n",
       "    <tr>\n",
       "      <th>giuliani</th>\n",
       "      <td>0.193360</td>\n",
       "    </tr>\n",
       "    <tr>\n",
       "      <th>nabilahforcongress</th>\n",
       "      <td>0.124922</td>\n",
       "    </tr>\n",
       "    <tr>\n",
       "      <th>bohrenjensen</th>\n",
       "      <td>0.108311</td>\n",
       "    </tr>\n",
       "    <tr>\n",
       "      <th>platini</th>\n",
       "      <td>0.087049</td>\n",
       "    </tr>\n",
       "    <tr>\n",
       "      <th>moser</th>\n",
       "      <td>0.061800</td>\n",
       "    </tr>\n",
       "    <tr>\n",
       "      <th>mccaskill</th>\n",
       "      <td>0.061135</td>\n",
       "    </tr>\n",
       "    <tr>\n",
       "      <th>darren</th>\n",
       "      <td>0.048511</td>\n",
       "    </tr>\n",
       "    <tr>\n",
       "      <th>tomasforcongress</th>\n",
       "      <td>0.045189</td>\n",
       "    </tr>\n",
       "  </tbody>\n",
       "</table>\n",
       "</div>"
      ],
      "text/plain": [
       "                    bernoulli_coefficient\n",
       "giuliani                         0.193360\n",
       "nabilahforcongress               0.124922\n",
       "bohrenjensen                     0.108311\n",
       "platini                          0.087049\n",
       "moser                            0.061800\n",
       "mccaskill                        0.061135\n",
       "darren                           0.048511\n",
       "tomasforcongress                 0.045189"
      ]
     },
     "execution_count": 98,
     "metadata": {},
     "output_type": "execute_result"
    }
   ],
   "source": [
    "nb_coeffs.loc[['giuliani', 'platini', 'nabilahforcongress', 'bohrenjensen', 'moser', 'darren', 'tomasforcongress', 'mccaskill']].sort_values('bernoulli_coefficient', ascending = False)"
   ]
  },
  {
   "cell_type": "markdown",
   "metadata": {},
   "source": [
    "## Chosen Model - Custom Kernel SVM"
   ]
  },
  {
   "cell_type": "code",
   "execution_count": 21,
   "metadata": {},
   "outputs": [],
   "source": [
    "# instantiating tfidf and StandardScaler\n",
    "\n",
    "tfidf = TfidfVectorizer(lowercase = False, \n",
    "                        ngram_range= (1,2), \n",
    "                        stop_words='english',\n",
    "                        max_features = 10_000\n",
    "                       )\n",
    "\n",
    "ss = StandardScaler()"
   ]
  },
  {
   "cell_type": "code",
   "execution_count": 22,
   "metadata": {},
   "outputs": [],
   "source": [
    "# transforming text data and scaling numeric data separately\n",
    "\n",
    "X_alltext_tfidf = pd.DataFrame(tfidf.fit_transform(X_alltext).todense())\n",
    "X_nums_ss = pd.DataFrame(ss.fit_transform(X_nums))"
   ]
  },
  {
   "cell_type": "code",
   "execution_count": 23,
   "metadata": {},
   "outputs": [],
   "source": [
    "# recombining data and creating datarame / train_test_split combined data\n",
    "\n",
    "X_combined = pd.concat([X_alltext_tfidf, X_nums_ss], axis=1)"
   ]
  },
  {
   "cell_type": "code",
   "execution_count": 24,
   "metadata": {},
   "outputs": [],
   "source": [
    "features = tfidf.get_feature_names() + ['num_comments', 'score', 'days_old', 'log_all_text_length']"
   ]
  },
  {
   "cell_type": "code",
   "execution_count": 25,
   "metadata": {},
   "outputs": [],
   "source": [
    "X_combined.columns = features"
   ]
  },
  {
   "cell_type": "code",
   "execution_count": 26,
   "metadata": {},
   "outputs": [],
   "source": [
    "X_combined_train, X_combined_test, y_combined_train, y_combined_test = train_test_split(X_combined, y)"
   ]
  },
  {
   "cell_type": "code",
   "execution_count": 27,
   "metadata": {},
   "outputs": [],
   "source": [
    "# Instantiating and fitting the estimator\n",
    "\n",
    "svc_custom = SVC()"
   ]
  },
  {
   "cell_type": "code",
   "execution_count": 28,
   "metadata": {},
   "outputs": [
    {
     "data": {
      "text/plain": [
       "SVC(C=1.0, break_ties=False, cache_size=200, class_weight=None, coef0=0.0,\n",
       "    decision_function_shape='ovr', degree=3, gamma='scale', kernel='rbf',\n",
       "    max_iter=-1, probability=False, random_state=None, shrinking=True,\n",
       "    tol=0.001, verbose=False)"
      ]
     },
     "execution_count": 28,
     "metadata": {},
     "output_type": "execute_result"
    }
   ],
   "source": [
    "svc_custom.fit(X_combined_train, y_combined_train)"
   ]
  },
  {
   "cell_type": "code",
   "execution_count": 29,
   "metadata": {},
   "outputs": [],
   "source": [
    "# getting accuracy score, predicting, and evaluating model\n",
    "\n",
    "train_score_svc = svc_custom.score(X_combined_train, y_combined_train)\n",
    "test_score_svc = svc_custom.score(X_combined_test, y_combined_test)"
   ]
  },
  {
   "cell_type": "code",
   "execution_count": 30,
   "metadata": {},
   "outputs": [],
   "source": [
    "preds = svc_custom.predict(X_combined_test)"
   ]
  },
  {
   "cell_type": "code",
   "execution_count": 31,
   "metadata": {},
   "outputs": [],
   "source": [
    "tn, fp, fn, tp = confusion_matrix(y_combined_test,\n",
    "                                  preds).ravel()"
   ]
  },
  {
   "cell_type": "code",
   "execution_count": 32,
   "metadata": {},
   "outputs": [],
   "source": [
    "specificity = round(tn / (tn + fp), 4)\n",
    "sensitivity = round(tp / (tp + fn), 4)"
   ]
  },
  {
   "cell_type": "code",
   "execution_count": 100,
   "metadata": {},
   "outputs": [
    {
     "name": "stdout",
     "output_type": "stream",
     "text": [
      "------All Text------\n",
      "Baseline Accuracy: 0.5\n",
      "Train Accuracy: 0.8233\n",
      "Test Accuracy: 0.785\n",
      "\n",
      "True Positives: 456\n",
      "True Negatives: 329\n",
      "False Positives: 155\n",
      "False Negatives: 60\n",
      "\n",
      "Specificity: 0.6798\n",
      "Sensitivity: 0.8837\n"
     ]
    }
   ],
   "source": [
    "print('------All Text------')\n",
    "print(\"Baseline Accuracy: 0.5\")\n",
    "print(f\"Train Accuracy: {round(train_score_svc, 4)}\")\n",
    "print(f\"Test Accuracy: {round(test_score_svc, 4)}\")\n",
    "print()\n",
    "print(f\"True Positives: {tp}\")\n",
    "print(f\"True Negatives: {tn}\")\n",
    "print(f\"False Positives: {fp}\")\n",
    "print(f\"False Negatives: {fn}\")\n",
    "print()\n",
    "print(f\"Specificity: {specificity}\")\n",
    "print(f\"Sensitivity: {sensitivity}\")"
   ]
  }
 ],
 "metadata": {
  "kernelspec": {
   "display_name": "Python 3",
   "language": "python",
   "name": "python3"
  },
  "language_info": {
   "codemirror_mode": {
    "name": "ipython",
    "version": 3
   },
   "file_extension": ".py",
   "mimetype": "text/x-python",
   "name": "python",
   "nbconvert_exporter": "python",
   "pygments_lexer": "ipython3",
   "version": "3.7.6"
  }
 },
 "nbformat": 4,
 "nbformat_minor": 4
}
