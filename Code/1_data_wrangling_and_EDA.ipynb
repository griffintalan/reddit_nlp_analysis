{
 "cells": [
  {
   "cell_type": "code",
   "execution_count": 1,
   "metadata": {},
   "outputs": [],
   "source": [
    "import pandas as pd\n",
    "import numpy as np\n",
    "import time\n",
    "import matplotlib.pyplot as plt\n",
    "import datetime as dt\n",
    "import seaborn as sns\n",
    "import requests\n",
    "from nltk.tokenize import word_tokenize"
   ]
  },
  {
   "cell_type": "code",
   "execution_count": 2,
   "metadata": {},
   "outputs": [],
   "source": [
    "# defining relevant fields to pull\n",
    "\n",
    "fields = ['title', 'selftext', 'subreddit', 'created_utc', 'author', 'num_comments', 'score', 'is_self']"
   ]
  },
  {
   "cell_type": "code",
   "execution_count": 3,
   "metadata": {},
   "outputs": [],
   "source": [
    "# Creating a function that returns X amount of posts that contain selftext\n",
    "# from a chosen subreddit, returning batches of chosen size at given time intervals\n",
    "# It also removes duplicates, [deleted] and [removed] comments, and blank comments\n",
    "# 4 columns are added to dataframe : all_text, title length, selftext length, and all_text length\n",
    "\n",
    "def get_x_posts(subreddit, day_interval, total_posts, fields, batch_size):\n",
    "\n",
    "    # setting base parameters for function\n",
    "    base_url = 'https://api.pushshift.io/reddit/search/submission'\n",
    "    subreddit_data = []\n",
    "    posts_counter = 0\n",
    "    i = 1\n",
    "    \n",
    "    # pulling and formatting data\n",
    "    while posts_counter < total_posts:\n",
    "\n",
    "        # pulling data from reddit through pushhift\n",
    "        result = requests.get(base_url,\n",
    "                             params = {\n",
    "                                 'subreddit' :    subreddit,\n",
    "                                 'size' : batch_size,\n",
    "                                 'after' : f'{day_interval*i}d'\n",
    "                                 })\n",
    "\n",
    "        # ensuring that the API call is successful\n",
    "        assert result.status_code == 200\n",
    "\n",
    "        # converting the data from json -> dict -> dataframe\n",
    "        # and filtering on selected fields\n",
    "        json_data = result.json()['data']\n",
    "        df = pd.DataFrame.from_dict(json_data)\n",
    "        df = df[fields]\n",
    "\n",
    "        # converting the created utc column to a timestamp and creating a 'days_old column'\n",
    "        if 'created_utc' in df.columns:\n",
    "            df['timestamp'] = df[\"created_utc\"].map(dt.date.fromtimestamp)\n",
    "            df.drop(columns = ['created_utc'], inplace = True)\n",
    "            df['days_old'] = (pd.to_datetime(dt.datetime.now().date()) - pd.to_datetime(df['timestamp'])).dt.days\n",
    "\n",
    "        # removing records with empty selftext fields\n",
    "        df = df[(df['is_self'] == True) \n",
    "                & (df['selftext'].isnull() == False)\n",
    "                & (df['selftext'] != '[removed]')\n",
    "                & (df['selftext'] != '[deleted]')\n",
    "                & (df['selftext'] != '')]\n",
    "\n",
    "        # removing is_self column and creating textlength columns \n",
    "        df.drop(columns = ['is_self'], inplace = True)\n",
    "        df['all_text'] = df['title'] + ' ' + df['selftext']\n",
    "        df['all_text_length'] = df['all_text'].str.len()\n",
    "        df['title_length']  = df['title'].str.len()\n",
    "        df['selftext_length']  = df['selftext'].str.len()\n",
    "        \n",
    "        # creating a log transformed column for all_text_lenth\n",
    "        df['log_all_text_length'] = np.log(df['all_text_length'])\n",
    "        \n",
    "        \n",
    "        # iterating the pull interval counter\n",
    "        i += 1\n",
    "\n",
    "        # adding new values to list, concatenating, deduping, and updating total posts\n",
    "        subreddit_data.append(df)\n",
    "        combined_results = pd.concat(subreddit_data, sort = False)\n",
    "        combined_results.drop_duplicates(subset = 'selftext', inplace = True)\n",
    "        posts_counter = len(combined_results)\n",
    "\n",
    "        # updating user with total posts and waiting 2 seconds\n",
    "        print(f'{posts_counter} posts collected from r/{subreddit}')        \n",
    "        time.sleep(2)\n",
    "\n",
    "    #combining results and reducing to total\n",
    "    combined_results = combined_results[:total_posts]\n",
    "    return combined_results"
   ]
  },
  {
   "cell_type": "code",
   "execution_count": 6,
   "metadata": {
    "scrolled": true
   },
   "outputs": [
    {
     "name": "stdout",
     "output_type": "stream",
     "text": [
      "61 posts collected from r/Liberal\n",
      "120 posts collected from r/Liberal\n",
      "207 posts collected from r/Liberal\n",
      "250 posts collected from r/Liberal\n",
      "279 posts collected from r/Liberal\n",
      "313 posts collected from r/Liberal\n",
      "359 posts collected from r/Liberal\n",
      "398 posts collected from r/Liberal\n",
      "448 posts collected from r/Liberal\n",
      "508 posts collected from r/Liberal\n",
      "549 posts collected from r/Liberal\n",
      "622 posts collected from r/Liberal\n",
      "678 posts collected from r/Liberal\n",
      "744 posts collected from r/Liberal\n",
      "797 posts collected from r/Liberal\n",
      "857 posts collected from r/Liberal\n",
      "916 posts collected from r/Liberal\n",
      "1016 posts collected from r/Liberal\n",
      "1128 posts collected from r/Liberal\n",
      "1205 posts collected from r/Liberal\n",
      "1286 posts collected from r/Liberal\n",
      "1376 posts collected from r/Liberal\n",
      "1457 posts collected from r/Liberal\n",
      "1522 posts collected from r/Liberal\n",
      "1551 posts collected from r/Liberal\n",
      "1579 posts collected from r/Liberal\n",
      "1616 posts collected from r/Liberal\n",
      "1644 posts collected from r/Liberal\n",
      "1683 posts collected from r/Liberal\n",
      "1708 posts collected from r/Liberal\n",
      "1729 posts collected from r/Liberal\n",
      "1751 posts collected from r/Liberal\n",
      "1783 posts collected from r/Liberal\n",
      "1808 posts collected from r/Liberal\n",
      "1821 posts collected from r/Liberal\n",
      "1840 posts collected from r/Liberal\n",
      "1857 posts collected from r/Liberal\n",
      "1887 posts collected from r/Liberal\n",
      "1917 posts collected from r/Liberal\n",
      "1975 posts collected from r/Liberal\n",
      "2002 posts collected from r/Liberal\n",
      "6 posts collected from r/Conservative\n",
      "15 posts collected from r/Conservative\n",
      "36 posts collected from r/Conservative\n",
      "70 posts collected from r/Conservative\n",
      "88 posts collected from r/Conservative\n",
      "119 posts collected from r/Conservative\n",
      "132 posts collected from r/Conservative\n",
      "150 posts collected from r/Conservative\n",
      "176 posts collected from r/Conservative\n",
      "195 posts collected from r/Conservative\n",
      "211 posts collected from r/Conservative\n",
      "231 posts collected from r/Conservative\n",
      "259 posts collected from r/Conservative\n",
      "276 posts collected from r/Conservative\n",
      "292 posts collected from r/Conservative\n",
      "315 posts collected from r/Conservative\n",
      "332 posts collected from r/Conservative\n",
      "361 posts collected from r/Conservative\n",
      "395 posts collected from r/Conservative\n",
      "416 posts collected from r/Conservative\n",
      "430 posts collected from r/Conservative\n",
      "447 posts collected from r/Conservative\n",
      "456 posts collected from r/Conservative\n",
      "461 posts collected from r/Conservative\n",
      "477 posts collected from r/Conservative\n",
      "510 posts collected from r/Conservative\n",
      "530 posts collected from r/Conservative\n",
      "554 posts collected from r/Conservative\n",
      "579 posts collected from r/Conservative\n",
      "620 posts collected from r/Conservative\n",
      "653 posts collected from r/Conservative\n",
      "691 posts collected from r/Conservative\n",
      "731 posts collected from r/Conservative\n",
      "774 posts collected from r/Conservative\n",
      "799 posts collected from r/Conservative\n",
      "826 posts collected from r/Conservative\n",
      "858 posts collected from r/Conservative\n",
      "872 posts collected from r/Conservative\n",
      "917 posts collected from r/Conservative\n",
      "944 posts collected from r/Conservative\n",
      "962 posts collected from r/Conservative\n",
      "1018 posts collected from r/Conservative\n",
      "1042 posts collected from r/Conservative\n",
      "1078 posts collected from r/Conservative\n",
      "1094 posts collected from r/Conservative\n",
      "1137 posts collected from r/Conservative\n",
      "1178 posts collected from r/Conservative\n",
      "1207 posts collected from r/Conservative\n",
      "1240 posts collected from r/Conservative\n",
      "1263 posts collected from r/Conservative\n",
      "1302 posts collected from r/Conservative\n",
      "1327 posts collected from r/Conservative\n",
      "1355 posts collected from r/Conservative\n",
      "1376 posts collected from r/Conservative\n",
      "1396 posts collected from r/Conservative\n",
      "1419 posts collected from r/Conservative\n",
      "1435 posts collected from r/Conservative\n",
      "1458 posts collected from r/Conservative\n",
      "1473 posts collected from r/Conservative\n",
      "1494 posts collected from r/Conservative\n",
      "1508 posts collected from r/Conservative\n",
      "1543 posts collected from r/Conservative\n",
      "1567 posts collected from r/Conservative\n",
      "1587 posts collected from r/Conservative\n",
      "1611 posts collected from r/Conservative\n",
      "1638 posts collected from r/Conservative\n",
      "1659 posts collected from r/Conservative\n",
      "1670 posts collected from r/Conservative\n",
      "1689 posts collected from r/Conservative\n",
      "1710 posts collected from r/Conservative\n",
      "1742 posts collected from r/Conservative\n",
      "1765 posts collected from r/Conservative\n",
      "1804 posts collected from r/Conservative\n",
      "1846 posts collected from r/Conservative\n",
      "1876 posts collected from r/Conservative\n",
      "1910 posts collected from r/Conservative\n",
      "1946 posts collected from r/Conservative\n",
      "1977 posts collected from r/Conservative\n",
      "2010 posts collected from r/Conservative\n"
     ]
    }
   ],
   "source": [
    "# pulling data from r/Conservative and r/Liberal\n",
    "\n",
    "df_liberal = get_x_posts(subreddit = 'Liberal', day_interval = 30, total_posts = 2000, fields = fields, batch_size = 1000)\n",
    "df_conserv = get_x_posts(subreddit = 'Conservative', day_interval = 30, total_posts = 2000, fields = fields, batch_size = 1000)"
   ]
  },
  {
   "cell_type": "code",
   "execution_count": 7,
   "metadata": {},
   "outputs": [
    {
     "data": {
      "text/html": [
       "<div>\n",
       "<style scoped>\n",
       "    .dataframe tbody tr th:only-of-type {\n",
       "        vertical-align: middle;\n",
       "    }\n",
       "\n",
       "    .dataframe tbody tr th {\n",
       "        vertical-align: top;\n",
       "    }\n",
       "\n",
       "    .dataframe thead th {\n",
       "        text-align: right;\n",
       "    }\n",
       "</style>\n",
       "<table border=\"1\" class=\"dataframe\">\n",
       "  <thead>\n",
       "    <tr style=\"text-align: right;\">\n",
       "      <th></th>\n",
       "      <th>title</th>\n",
       "      <th>selftext</th>\n",
       "      <th>subreddit</th>\n",
       "      <th>author</th>\n",
       "      <th>num_comments</th>\n",
       "      <th>score</th>\n",
       "      <th>timestamp</th>\n",
       "      <th>days_old</th>\n",
       "      <th>all_text</th>\n",
       "      <th>all_text_length</th>\n",
       "      <th>title_length</th>\n",
       "      <th>selftext_length</th>\n",
       "      <th>log_all_text_length</th>\n",
       "    </tr>\n",
       "  </thead>\n",
       "  <tbody>\n",
       "    <tr>\n",
       "      <th>10</th>\n",
       "      <td>The misreported nature of the new coronavirus ...</td>\n",
       "      <td>How much are we over-correcting for China and ...</td>\n",
       "      <td>Liberal</td>\n",
       "      <td>abananaa1</td>\n",
       "      <td>40</td>\n",
       "      <td>1</td>\n",
       "      <td>2020-03-25</td>\n",
       "      <td>30</td>\n",
       "      <td>The misreported nature of the new coronavirus ...</td>\n",
       "      <td>9474</td>\n",
       "      <td>91</td>\n",
       "      <td>9382</td>\n",
       "      <td>9.156306</td>\n",
       "    </tr>\n",
       "    <tr>\n",
       "      <th>15</th>\n",
       "      <td>The American Dream is Alive and Well!</td>\n",
       "      <td>[Hard Hats and Heels](https://youtu.be/P6Zs2XM...</td>\n",
       "      <td>Liberal</td>\n",
       "      <td>MikeTheMonsta</td>\n",
       "      <td>0</td>\n",
       "      <td>1</td>\n",
       "      <td>2020-03-25</td>\n",
       "      <td>30</td>\n",
       "      <td>The American Dream is Alive and Well! [Hard Ha...</td>\n",
       "      <td>473</td>\n",
       "      <td>37</td>\n",
       "      <td>435</td>\n",
       "      <td>6.159095</td>\n",
       "    </tr>\n",
       "    <tr>\n",
       "      <th>16</th>\n",
       "      <td>Trump Flaw</td>\n",
       "      <td>I am a supporter of Trump, but one thing i don...</td>\n",
       "      <td>Liberal</td>\n",
       "      <td>Burgerking9263</td>\n",
       "      <td>10</td>\n",
       "      <td>1</td>\n",
       "      <td>2020-03-25</td>\n",
       "      <td>30</td>\n",
       "      <td>Trump Flaw I am a supporter of Trump, but one ...</td>\n",
       "      <td>223</td>\n",
       "      <td>10</td>\n",
       "      <td>212</td>\n",
       "      <td>5.407172</td>\n",
       "    </tr>\n",
       "    <tr>\n",
       "      <th>20</th>\n",
       "      <td>Why are there no bathrooms for panzers?</td>\n",
       "      <td>I sexually identify an LA7+ Leopard PzKpfw (Pa...</td>\n",
       "      <td>Liberal</td>\n",
       "      <td>Waschtl-</td>\n",
       "      <td>2</td>\n",
       "      <td>1</td>\n",
       "      <td>2020-03-26</td>\n",
       "      <td>29</td>\n",
       "      <td>Why are there no bathrooms for panzers? I sexu...</td>\n",
       "      <td>363</td>\n",
       "      <td>39</td>\n",
       "      <td>323</td>\n",
       "      <td>5.894403</td>\n",
       "    </tr>\n",
       "    <tr>\n",
       "      <th>25</th>\n",
       "      <td>Does Bernie have a chance?</td>\n",
       "      <td>[removed]\\n\\n[View Poll](https://www.reddit.co...</td>\n",
       "      <td>Liberal</td>\n",
       "      <td>chobani_yogurt</td>\n",
       "      <td>0</td>\n",
       "      <td>1</td>\n",
       "      <td>2020-03-26</td>\n",
       "      <td>29</td>\n",
       "      <td>Does Bernie have a chance? [removed]\\n\\n[View ...</td>\n",
       "      <td>85</td>\n",
       "      <td>26</td>\n",
       "      <td>58</td>\n",
       "      <td>4.442651</td>\n",
       "    </tr>\n",
       "  </tbody>\n",
       "</table>\n",
       "</div>"
      ],
      "text/plain": [
       "                                                title  \\\n",
       "10  The misreported nature of the new coronavirus ...   \n",
       "15              The American Dream is Alive and Well!   \n",
       "16                                         Trump Flaw   \n",
       "20            Why are there no bathrooms for panzers?   \n",
       "25                         Does Bernie have a chance?   \n",
       "\n",
       "                                             selftext subreddit  \\\n",
       "10  How much are we over-correcting for China and ...   Liberal   \n",
       "15  [Hard Hats and Heels](https://youtu.be/P6Zs2XM...   Liberal   \n",
       "16  I am a supporter of Trump, but one thing i don...   Liberal   \n",
       "20  I sexually identify an LA7+ Leopard PzKpfw (Pa...   Liberal   \n",
       "25  [removed]\\n\\n[View Poll](https://www.reddit.co...   Liberal   \n",
       "\n",
       "            author  num_comments  score   timestamp  days_old  \\\n",
       "10       abananaa1            40      1  2020-03-25        30   \n",
       "15   MikeTheMonsta             0      1  2020-03-25        30   \n",
       "16  Burgerking9263            10      1  2020-03-25        30   \n",
       "20        Waschtl-             2      1  2020-03-26        29   \n",
       "25  chobani_yogurt             0      1  2020-03-26        29   \n",
       "\n",
       "                                             all_text  all_text_length  \\\n",
       "10  The misreported nature of the new coronavirus ...             9474   \n",
       "15  The American Dream is Alive and Well! [Hard Ha...              473   \n",
       "16  Trump Flaw I am a supporter of Trump, but one ...              223   \n",
       "20  Why are there no bathrooms for panzers? I sexu...              363   \n",
       "25  Does Bernie have a chance? [removed]\\n\\n[View ...               85   \n",
       "\n",
       "    title_length  selftext_length  log_all_text_length  \n",
       "10            91             9382             9.156306  \n",
       "15            37              435             6.159095  \n",
       "16            10              212             5.407172  \n",
       "20            39              323             5.894403  \n",
       "25            26               58             4.442651  "
      ]
     },
     "execution_count": 7,
     "metadata": {},
     "output_type": "execute_result"
    }
   ],
   "source": [
    "# checking the data structure for the liberal df\n",
    "df_liberal.head()"
   ]
  },
  {
   "cell_type": "code",
   "execution_count": 8,
   "metadata": {},
   "outputs": [
    {
     "data": {
      "text/html": [
       "<div>\n",
       "<style scoped>\n",
       "    .dataframe tbody tr th:only-of-type {\n",
       "        vertical-align: middle;\n",
       "    }\n",
       "\n",
       "    .dataframe tbody tr th {\n",
       "        vertical-align: top;\n",
       "    }\n",
       "\n",
       "    .dataframe thead th {\n",
       "        text-align: right;\n",
       "    }\n",
       "</style>\n",
       "<table border=\"1\" class=\"dataframe\">\n",
       "  <thead>\n",
       "    <tr style=\"text-align: right;\">\n",
       "      <th></th>\n",
       "      <th>title</th>\n",
       "      <th>selftext</th>\n",
       "      <th>subreddit</th>\n",
       "      <th>author</th>\n",
       "      <th>num_comments</th>\n",
       "      <th>score</th>\n",
       "      <th>timestamp</th>\n",
       "      <th>days_old</th>\n",
       "      <th>all_text</th>\n",
       "      <th>all_text_length</th>\n",
       "      <th>title_length</th>\n",
       "      <th>selftext_length</th>\n",
       "      <th>log_all_text_length</th>\n",
       "    </tr>\n",
       "  </thead>\n",
       "  <tbody>\n",
       "    <tr>\n",
       "      <th>311</th>\n",
       "      <td>Fiscal conservatives - what are your thoughts ...</td>\n",
       "      <td>I consider myself a moderate conservative who ...</td>\n",
       "      <td>Conservative</td>\n",
       "      <td>Ihaveaboot</td>\n",
       "      <td>0</td>\n",
       "      <td>1</td>\n",
       "      <td>2020-03-25</td>\n",
       "      <td>30</td>\n",
       "      <td>Fiscal conservatives - what are your thoughts ...</td>\n",
       "      <td>346</td>\n",
       "      <td>73</td>\n",
       "      <td>272</td>\n",
       "      <td>5.846439</td>\n",
       "    </tr>\n",
       "    <tr>\n",
       "      <th>382</th>\n",
       "      <td>Would you vote for sanders if he was a social ...</td>\n",
       "      <td>[social capitalism ](https://en.m.wikipedia.or...</td>\n",
       "      <td>Conservative</td>\n",
       "      <td>Fishpatrick1997</td>\n",
       "      <td>0</td>\n",
       "      <td>1</td>\n",
       "      <td>2020-03-26</td>\n",
       "      <td>29</td>\n",
       "      <td>Would you vote for sanders if he was a social ...</td>\n",
       "      <td>133</td>\n",
       "      <td>57</td>\n",
       "      <td>75</td>\n",
       "      <td>4.890349</td>\n",
       "    </tr>\n",
       "    <tr>\n",
       "      <th>384</th>\n",
       "      <td>$25M For Congress???</td>\n",
       "      <td>Page 781 of the Covid19 Releif bill provides $...</td>\n",
       "      <td>Conservative</td>\n",
       "      <td>buckeyefan391</td>\n",
       "      <td>0</td>\n",
       "      <td>1</td>\n",
       "      <td>2020-03-26</td>\n",
       "      <td>29</td>\n",
       "      <td>$25M For Congress??? Page 781 of the Covid19 R...</td>\n",
       "      <td>363</td>\n",
       "      <td>20</td>\n",
       "      <td>342</td>\n",
       "      <td>5.894403</td>\n",
       "    </tr>\n",
       "    <tr>\n",
       "      <th>664</th>\n",
       "      <td>Should I file for unemployment?</td>\n",
       "      <td>So hear me out. This is my thought pattern her...</td>\n",
       "      <td>Conservative</td>\n",
       "      <td>cdotsubo</td>\n",
       "      <td>0</td>\n",
       "      <td>1</td>\n",
       "      <td>2020-03-26</td>\n",
       "      <td>29</td>\n",
       "      <td>Should I file for unemployment? So hear me out...</td>\n",
       "      <td>520</td>\n",
       "      <td>31</td>\n",
       "      <td>488</td>\n",
       "      <td>6.253829</td>\n",
       "    </tr>\n",
       "    <tr>\n",
       "      <th>793</th>\n",
       "      <td>Why is everyone complaining about only getting...</td>\n",
       "      <td>Am I the only one who thinks that the guarante...</td>\n",
       "      <td>Conservative</td>\n",
       "      <td>TheFakeJK</td>\n",
       "      <td>0</td>\n",
       "      <td>1</td>\n",
       "      <td>2020-03-27</td>\n",
       "      <td>28</td>\n",
       "      <td>Why is everyone complaining about only getting...</td>\n",
       "      <td>326</td>\n",
       "      <td>53</td>\n",
       "      <td>272</td>\n",
       "      <td>5.786897</td>\n",
       "    </tr>\n",
       "  </tbody>\n",
       "</table>\n",
       "</div>"
      ],
      "text/plain": [
       "                                                 title  \\\n",
       "311  Fiscal conservatives - what are your thoughts ...   \n",
       "382  Would you vote for sanders if he was a social ...   \n",
       "384                               $25M For Congress???   \n",
       "664                    Should I file for unemployment?   \n",
       "793  Why is everyone complaining about only getting...   \n",
       "\n",
       "                                              selftext     subreddit  \\\n",
       "311  I consider myself a moderate conservative who ...  Conservative   \n",
       "382  [social capitalism ](https://en.m.wikipedia.or...  Conservative   \n",
       "384  Page 781 of the Covid19 Releif bill provides $...  Conservative   \n",
       "664  So hear me out. This is my thought pattern her...  Conservative   \n",
       "793  Am I the only one who thinks that the guarante...  Conservative   \n",
       "\n",
       "              author  num_comments  score   timestamp  days_old  \\\n",
       "311       Ihaveaboot             0      1  2020-03-25        30   \n",
       "382  Fishpatrick1997             0      1  2020-03-26        29   \n",
       "384    buckeyefan391             0      1  2020-03-26        29   \n",
       "664         cdotsubo             0      1  2020-03-26        29   \n",
       "793        TheFakeJK             0      1  2020-03-27        28   \n",
       "\n",
       "                                              all_text  all_text_length  \\\n",
       "311  Fiscal conservatives - what are your thoughts ...              346   \n",
       "382  Would you vote for sanders if he was a social ...              133   \n",
       "384  $25M For Congress??? Page 781 of the Covid19 R...              363   \n",
       "664  Should I file for unemployment? So hear me out...              520   \n",
       "793  Why is everyone complaining about only getting...              326   \n",
       "\n",
       "     title_length  selftext_length  log_all_text_length  \n",
       "311            73              272             5.846439  \n",
       "382            57               75             4.890349  \n",
       "384            20              342             5.894403  \n",
       "664            31              488             6.253829  \n",
       "793            53              272             5.786897  "
      ]
     },
     "execution_count": 8,
     "metadata": {},
     "output_type": "execute_result"
    }
   ],
   "source": [
    "# checking the data structure for the Conservative df\n",
    "df_conserv.head()"
   ]
  },
  {
   "cell_type": "code",
   "execution_count": 9,
   "metadata": {},
   "outputs": [],
   "source": [
    "# Creating the target variable column\n",
    "\n",
    "df_liberal['is_liberal'] = 1\n",
    "df_conserv['is_liberal'] = 0"
   ]
  },
  {
   "cell_type": "code",
   "execution_count": 10,
   "metadata": {},
   "outputs": [
    {
     "data": {
      "text/plain": [
       "Index([], dtype='object')"
      ]
     },
     "execution_count": 10,
     "metadata": {},
     "output_type": "execute_result"
    }
   ],
   "source": [
    "# Checking subreddit 1 nulls\n",
    "df_liberal.columns[df_liberal.isnull().sum() > 0]"
   ]
  },
  {
   "cell_type": "code",
   "execution_count": 11,
   "metadata": {
    "scrolled": true
   },
   "outputs": [
    {
     "data": {
      "text/plain": [
       "Index([], dtype='object')"
      ]
     },
     "execution_count": 11,
     "metadata": {},
     "output_type": "execute_result"
    }
   ],
   "source": [
    "# Checking subreddit 2 nulls\n",
    "df_conserv.columns[df_conserv.isnull().sum() > 0]"
   ]
  },
  {
   "cell_type": "code",
   "execution_count": 12,
   "metadata": {},
   "outputs": [
    {
     "data": {
      "text/plain": [
       "1    2000\n",
       "0    2000\n",
       "Name: is_liberal, dtype: int64"
      ]
     },
     "execution_count": 12,
     "metadata": {},
     "output_type": "execute_result"
    }
   ],
   "source": [
    "# combining data for export\n",
    "combined_data = pd.concat([df_liberal, df_conserv], sort = False)\n",
    "combined_data['is_liberal'].value_counts()"
   ]
  },
  {
   "cell_type": "code",
   "execution_count": 13,
   "metadata": {
    "scrolled": true
   },
   "outputs": [
    {
     "data": {
      "text/plain": [
       "(4000, 14)"
      ]
     },
     "execution_count": 13,
     "metadata": {},
     "output_type": "execute_result"
    }
   ],
   "source": [
    "# ensuring that data amounts are correct\n",
    "combined_data.shape"
   ]
  },
  {
   "cell_type": "markdown",
   "metadata": {},
   "source": [
    "  "
   ]
  },
  {
   "cell_type": "code",
   "execution_count": 14,
   "metadata": {},
   "outputs": [
    {
     "name": "stderr",
     "output_type": "stream",
     "text": [
      "C:\\Users\\griff\\anaconda3\\lib\\site-packages\\pandas\\core\\series.py:679: RuntimeWarning: divide by zero encountered in log\n",
      "  result = getattr(ufunc, method)(*inputs, **kwargs)\n"
     ]
    },
    {
     "data": {
      "image/png": "[encoded data removed]",
      "text/plain": [
       "<Figure size 2160x720 with 2 Axes>"
      ]
     },
     "metadata": {
      "needs_background": "light"
     },
     "output_type": "display_data"
    }
   ],
   "source": [
    "# checking distribution of num_comments variable\n",
    "\n",
    "plt.figure(figsize = (30, 10))\n",
    "\n",
    "plt.subplot(121)\n",
    "plt.hist(combined_data['num_comments'], bins =40, range = (0, 20))\n",
    "plt.xlabel('Number of Comments', size =18)\n",
    "plt.ylabel('Frequency', size =18)\n",
    "plt.title('Number of Comments in Reddit Posts', size =22)\n",
    "plt.xticks(size = 14)\n",
    "plt.yticks(size = 14)\n",
    "\n",
    "plt.subplot(122)\n",
    "plt.hist(np.log(combined_data['num_comments']), bins =40, range = (0, 10), color ='red')\n",
    "plt.xlabel('log(Number of Comments)', size =18)\n",
    "plt.ylabel('Frequency', size =18)\n",
    "plt.title('log(Number of Comments) in Reddit Posts', size =22)\n",
    "plt.xticks(size = 14)\n",
    "plt.yticks(size = 14);"
   ]
  },
  {
   "cell_type": "markdown",
   "metadata": {},
   "source": [
    "***The distribution of the comments data was not normalized enough with log to consider a transformation***\n",
    "\n",
    "\n",
    "\n"
   ]
  },
  {
   "cell_type": "markdown",
   "metadata": {},
   "source": [
    " \n",
    " "
   ]
  },
  {
   "cell_type": "markdown",
   "metadata": {},
   "source": [
    "\n",
    "\n",
    "\n",
    "\n"
   ]
  },
  {
   "cell_type": "code",
   "execution_count": 15,
   "metadata": {},
   "outputs": [
    {
     "data": {
      "image/png": "[encoded data removed]",
      "text/plain": [
       "<Figure size 2160x720 with 2 Axes>"
      ]
     },
     "metadata": {
      "needs_background": "light"
     },
     "output_type": "display_data"
    }
   ],
   "source": [
    "# checking distribution of score variable\n",
    "\n",
    "plt.figure(figsize = (30, 10))\n",
    "\n",
    "plt.subplot(121)\n",
    "plt.hist(combined_data['score'], bins =40, range = (0, 20))\n",
    "plt.xlabel('Score', size =18)\n",
    "plt.ylabel('Frequency', size =18)\n",
    "plt.title('Score of Reddit Posts', size =22)\n",
    "plt.xticks(size = 14)\n",
    "plt.yticks(size = 14)\n",
    "\n",
    "plt.subplot(122)\n",
    "plt.hist(np.log(combined_data['score']), bins =40, range = (0, 10), color ='red')\n",
    "plt.xlabel('log(Score)', size =18)\n",
    "plt.ylabel('Frequency', size =18)\n",
    "plt.title('log(Score) of Reddit Posts', size =22)\n",
    "plt.xticks(size = 14)\n",
    "plt.yticks(size = 14);"
   ]
  },
  {
   "cell_type": "markdown",
   "metadata": {},
   "source": [
    "***The distribution of the scores data was not normalized enough with log to consider a transformation***"
   ]
  },
  {
   "cell_type": "markdown",
   "metadata": {},
   "source": [
    " "
   ]
  },
  {
   "cell_type": "markdown",
   "metadata": {},
   "source": [
    "\n",
    "\n",
    "\n",
    "\n"
   ]
  },
  {
   "cell_type": "code",
   "execution_count": 16,
   "metadata": {},
   "outputs": [
    {
     "data": {
      "image/png": "[encoded data removed]",
      "text/plain": [
       "<Figure size 2160x720 with 2 Axes>"
      ]
     },
     "metadata": {
      "needs_background": "light"
     },
     "output_type": "display_data"
    }
   ],
   "source": [
    "# checking distribution of all_text_length variable\n",
    "\n",
    "plt.figure(figsize = (30, 10))\n",
    "\n",
    "plt.subplot(121)\n",
    "plt.hist(combined_data['all_text_length'], bins =40, range = (0, 5000))\n",
    "plt.xlabel('all_text_length', size =18)\n",
    "plt.ylabel('Frequency', size =18)\n",
    "plt.title('all_text_length for Reddit Posts', size =22)\n",
    "plt.xticks(size = 14)\n",
    "plt.yticks(size = 14)\n",
    "\n",
    "plt.subplot(122)\n",
    "plt.hist(np.log(combined_data['all_text_length']), bins =40, range = (0, 10), color ='red')\n",
    "plt.xlabel('log(all_text_length)', size =18)\n",
    "plt.ylabel('Frequency', size =18)\n",
    "plt.title('log(all_text_length) for Reddit Posts', size =22)\n",
    "plt.xticks(size = 14)\n",
    "plt.yticks(size = 14);"
   ]
  },
  {
   "cell_type": "markdown",
   "metadata": {},
   "source": [
    "***The transformation above shows a shift toward normal distribution for the all_text_length field, this transformation will be kept. This has been added into the pull function***"
   ]
  },
  {
   "cell_type": "markdown",
   "metadata": {},
   "source": [
    "\n"
   ]
  },
  {
   "cell_type": "markdown",
   "metadata": {},
   "source": [
    "\n"
   ]
  },
  {
   "cell_type": "markdown",
   "metadata": {},
   "source": [
    "\n"
   ]
  },
  {
   "cell_type": "code",
   "execution_count": 17,
   "metadata": {},
   "outputs": [
    {
     "data": {
      "text/html": [
       "<div>\n",
       "<style scoped>\n",
       "    .dataframe tbody tr th:only-of-type {\n",
       "        vertical-align: middle;\n",
       "    }\n",
       "\n",
       "    .dataframe tbody tr th {\n",
       "        vertical-align: top;\n",
       "    }\n",
       "\n",
       "    .dataframe thead th {\n",
       "        text-align: right;\n",
       "    }\n",
       "</style>\n",
       "<table border=\"1\" class=\"dataframe\">\n",
       "  <thead>\n",
       "    <tr style=\"text-align: right;\">\n",
       "      <th></th>\n",
       "      <th>num_comments</th>\n",
       "      <th>score</th>\n",
       "      <th>days_old</th>\n",
       "      <th>all_text_length</th>\n",
       "      <th>title_length</th>\n",
       "      <th>selftext_length</th>\n",
       "      <th>log_all_text_length</th>\n",
       "      <th>is_liberal</th>\n",
       "    </tr>\n",
       "  </thead>\n",
       "  <tbody>\n",
       "    <tr>\n",
       "      <th>count</th>\n",
       "      <td>4000.000000</td>\n",
       "      <td>4000.000000</td>\n",
       "      <td>4000.000000</td>\n",
       "      <td>4000.000000</td>\n",
       "      <td>4000.000000</td>\n",
       "      <td>4000.000000</td>\n",
       "      <td>4000.000000</td>\n",
       "      <td>4000.000000</td>\n",
       "    </tr>\n",
       "    <tr>\n",
       "      <th>mean</th>\n",
       "      <td>15.306500</td>\n",
       "      <td>13.510000</td>\n",
       "      <td>900.312500</td>\n",
       "      <td>1000.335500</td>\n",
       "      <td>62.218000</td>\n",
       "      <td>937.117500</td>\n",
       "      <td>6.213520</td>\n",
       "      <td>0.500000</td>\n",
       "    </tr>\n",
       "    <tr>\n",
       "      <th>std</th>\n",
       "      <td>57.478061</td>\n",
       "      <td>60.448883</td>\n",
       "      <td>630.426522</td>\n",
       "      <td>1770.426478</td>\n",
       "      <td>46.558763</td>\n",
       "      <td>1767.643071</td>\n",
       "      <td>1.126317</td>\n",
       "      <td>0.500063</td>\n",
       "    </tr>\n",
       "    <tr>\n",
       "      <th>min</th>\n",
       "      <td>0.000000</td>\n",
       "      <td>0.000000</td>\n",
       "      <td>0.000000</td>\n",
       "      <td>12.000000</td>\n",
       "      <td>1.000000</td>\n",
       "      <td>1.000000</td>\n",
       "      <td>2.484907</td>\n",
       "      <td>0.000000</td>\n",
       "    </tr>\n",
       "    <tr>\n",
       "      <th>25%</th>\n",
       "      <td>0.000000</td>\n",
       "      <td>1.000000</td>\n",
       "      <td>417.000000</td>\n",
       "      <td>235.750000</td>\n",
       "      <td>31.000000</td>\n",
       "      <td>171.000000</td>\n",
       "      <td>5.462770</td>\n",
       "      <td>0.000000</td>\n",
       "    </tr>\n",
       "    <tr>\n",
       "      <th>50%</th>\n",
       "      <td>3.000000</td>\n",
       "      <td>1.000000</td>\n",
       "      <td>735.000000</td>\n",
       "      <td>481.500000</td>\n",
       "      <td>51.000000</td>\n",
       "      <td>417.000000</td>\n",
       "      <td>6.176906</td>\n",
       "      <td>0.500000</td>\n",
       "    </tr>\n",
       "    <tr>\n",
       "      <th>75%</th>\n",
       "      <td>11.000000</td>\n",
       "      <td>6.000000</td>\n",
       "      <td>1260.000000</td>\n",
       "      <td>985.000000</td>\n",
       "      <td>78.000000</td>\n",
       "      <td>924.000000</td>\n",
       "      <td>6.892642</td>\n",
       "      <td>1.000000</td>\n",
       "    </tr>\n",
       "    <tr>\n",
       "      <th>max</th>\n",
       "      <td>1579.000000</td>\n",
       "      <td>2635.000000</td>\n",
       "      <td>2370.000000</td>\n",
       "      <td>27089.000000</td>\n",
       "      <td>304.000000</td>\n",
       "      <td>27040.000000</td>\n",
       "      <td>10.206883</td>\n",
       "      <td>1.000000</td>\n",
       "    </tr>\n",
       "  </tbody>\n",
       "</table>\n",
       "</div>"
      ],
      "text/plain": [
       "       num_comments        score     days_old  all_text_length  title_length  \\\n",
       "count   4000.000000  4000.000000  4000.000000      4000.000000   4000.000000   \n",
       "mean      15.306500    13.510000   900.312500      1000.335500     62.218000   \n",
       "std       57.478061    60.448883   630.426522      1770.426478     46.558763   \n",
       "min        0.000000     0.000000     0.000000        12.000000      1.000000   \n",
       "25%        0.000000     1.000000   417.000000       235.750000     31.000000   \n",
       "50%        3.000000     1.000000   735.000000       481.500000     51.000000   \n",
       "75%       11.000000     6.000000  1260.000000       985.000000     78.000000   \n",
       "max     1579.000000  2635.000000  2370.000000     27089.000000    304.000000   \n",
       "\n",
       "       selftext_length  log_all_text_length   is_liberal  \n",
       "count      4000.000000          4000.000000  4000.000000  \n",
       "mean        937.117500             6.213520     0.500000  \n",
       "std        1767.643071             1.126317     0.500063  \n",
       "min           1.000000             2.484907     0.000000  \n",
       "25%         171.000000             5.462770     0.000000  \n",
       "50%         417.000000             6.176906     0.500000  \n",
       "75%         924.000000             6.892642     1.000000  \n",
       "max       27040.000000            10.206883     1.000000  "
      ]
     },
     "execution_count": 17,
     "metadata": {},
     "output_type": "execute_result"
    }
   ],
   "source": [
    "combined_data.describe()"
   ]
  },
  {
   "cell_type": "code",
   "execution_count": 18,
   "metadata": {},
   "outputs": [],
   "source": [
    "# exporting data to Data folder as CSV's\n",
    "combined_data.to_csv('../Data/combined_data.csv', index = False)\n",
    "df_liberal.to_csv('../Data/liberal_data.csv', index = False)\n",
    "df_conserv.to_csv('../Data/conservative_data.csv', index = False)"
   ]
  }
 ],
 "metadata": {
  "kernelspec": {
   "display_name": "Python 3",
   "language": "python",
   "name": "python3"
  },
  "language_info": {
   "codemirror_mode": {
    "name": "ipython",
    "version": 3
   },
   "file_extension": ".py",
   "mimetype": "text/x-python",
   "name": "python",
   "nbconvert_exporter": "python",
   "pygments_lexer": "ipython3",
   "version": "3.7.6"
  }
 },
 "nbformat": 4,
 "nbformat_minor": 4
}
